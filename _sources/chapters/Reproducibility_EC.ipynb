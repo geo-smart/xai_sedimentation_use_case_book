{
 "cells": [
  {
   "cell_type": "markdown",
   "id": "e3137351",
   "metadata": {},
   "source": [
    "# Reproducibility\n",
    "\n",
    "All data used in this work can be accessed with the following link: https://zenodo.org/record/7729001#.ZA8oAuzMKhY\n",
    "\n",
    "If one would like to conduct a similar study, with data compiled themselves, they can access the raw data from CRMS stations from the following sites: https://www.lacoast.gov/CRMS/ and https://cims.coastal.louisiana.gov/monitoring-data/\n",
    "\n",
    "The full tutorial will be able to be run via Binder, with the all the dependencies accounted for."
   ]
  },
  {
   "cell_type": "markdown",
   "id": "9bc28fb9",
   "metadata": {},
   "source": [
    "# Sources\n",
    "\n",
    "Allen, George H., and Tamlin M. Pavelsky. “Global Extent of Rivers and Streams.” Science 361, no. 6402 (August 10, 2018): 585–88. https://doi.org/10.1126/science.aat0636.\n",
    "\n",
    "Atlas, Global Wind. \"Global Wind Atlas 3.0, a free, web-based application developed, owned and operated by the Technical University of Denmark (DTU).\" The Global Wind Atlas 3 (2022).\n",
    "\n",
    "Bishop, Christopher M. Pattern Recognition and Machine Learning. Information Science and Statistics. New York: Springer, 2006.\n",
    "\n",
    "Etienne Chenevert. (2023). XAI Sedimentation Use Case (v1.0) [Data set]. Zenodo. https://doi.org/10.5281/zenodo.7729001\n",
    "\n",
    "Molnar, C. (2019). Interpretable machine learning: A guide for making black box models explainable.\n",
    "\n",
    "Pekel, Jean-François, Andrew Cottam, Noel Gorelick, and Alan S. Belward. “High-Resolution Mapping of Global Surface Water and Its Long-Term Changes.” Nature 540, no. 7633 (December 15, 2016): 418–22. https://doi.org/10.1038/nature20584.\n",
    "\n",
    "Rasmussen, Carl Edward, and Christopher K. I. Williams. Gaussian Processes for Machine Learning. The MIT Press, 2005. https://doi.org/10.7551/mitpress/3206.001.0001.\n",
    "\n",
    "Silva, Sam J., Christoph A. Keller, and Joseph Hardin. “Using an Explainable Machine Learning Approach to Characterize Earth System Model Errors: Application of SHAP Analysis to Modeling Lightning Flash Occurrence.” Journal of Advances in Modeling Earth Systems 14, no. 4 (April 2022). https://doi.org/10.1029/2021MS002881.\n",
    "\n",
    "Wager, R.T., & E.L. Haywood III, (2022). State of Louisiana Coastal Protection and Restoration Authority (CPRA) Coastal Information Management System (CIMS) Data Dictionary. Version 1.0, pp. 1-133.\n"
   ]
  },
  {
   "cell_type": "code",
   "execution_count": null,
   "id": "819dd169",
   "metadata": {},
   "outputs": [],
   "source": []
  }
 ],
 "metadata": {
  "kernelspec": {
   "display_name": "Python 3 (ipykernel)",
   "language": "python",
   "name": "python3"
  },
  "language_info": {
   "codemirror_mode": {
    "name": "ipython",
    "version": 3
   },
   "file_extension": ".py",
   "mimetype": "text/x-python",
   "name": "python",
   "nbconvert_exporter": "python",
   "pygments_lexer": "ipython3",
   "version": "3.9.16"
  }
 },
 "nbformat": 4,
 "nbformat_minor": 5
}
