{
 "cells": [
  {
   "cell_type": "markdown",
   "id": "834b3c09",
   "metadata": {},
   "source": [
    "We do not have a proper hyper-parameter tuning section in this tutorial because we purposely chose two machine learning methods that have a small number of parameters. In both scikit learn's implementation Bayesian Linear Regression and Gaussian Process Regression, the empirical bayes technique of finding the hyperparameters of the models is used. \n",
    "\n",
    "However, popular approaches to hyper-parameter tuning employ a grid search method. I would recommend researching methods that outline the general grid search approach to finding hyper-parameters. "
   ]
  }
 ],
 "metadata": {
  "kernelspec": {
   "display_name": "Python 3 (ipykernel)",
   "language": "python",
   "name": "python3"
  },
  "language_info": {
   "codemirror_mode": {
    "name": "ipython",
    "version": 3
   },
   "file_extension": ".py",
   "mimetype": "text/x-python",
   "name": "python",
   "nbconvert_exporter": "python",
   "pygments_lexer": "ipython3",
   "version": "3.9.16"
  }
 },
 "nbformat": 4,
 "nbformat_minor": 5
}
